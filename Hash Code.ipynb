{
 "cells": [
  {
   "cell_type": "code",
   "execution_count": 49,
   "id": "d62cf466",
   "metadata": {},
   "outputs": [],
   "source": [
    "import string"
   ]
  },
  {
   "cell_type": "code",
   "execution_count": 50,
   "id": "9c6b3dc9",
   "metadata": {},
   "outputs": [],
   "source": [
    "f = open('a_an_example.in.txt','r')"
   ]
  },
  {
   "cell_type": "code",
   "execution_count": 51,
   "id": "da9176aa",
   "metadata": {},
   "outputs": [],
   "source": [
    "N = 0\n",
    "M = 0\n",
    "\n",
    "contributer = []\n",
    "no_skills = []\n",
    "skills = []\n",
    "levels = []\n",
    "\n",
    "\n",
    "project = []\n",
    "no_of_days = []\n",
    "score = []\n",
    "best_before = []\n",
    "no_of_roles = []\n",
    "\n",
    "required_roles = []\n",
    "required_levels = []\n",
    "\n",
    "selected_project = []\n",
    "assigned_role = []"
   ]
  },
  {
   "cell_type": "code",
   "execution_count": 52,
   "id": "2d3f02ea",
   "metadata": {},
   "outputs": [],
   "source": [
    "f.seek(0)\n",
    "str = f.readline().rstrip()\n",
    "L = str.split(\" \")\n",
    "N = int(L[0])\n",
    "M = int(L[1])"
   ]
  },
  {
   "cell_type": "code",
   "execution_count": 53,
   "id": "4953c8ae",
   "metadata": {},
   "outputs": [],
   "source": [
    "k = 0\n",
    "#for contributers\n",
    "for i in range(N):\n",
    "    line = f.readline().rstrip()\n",
    "    temp = line.split(\" \")\n",
    "    name = temp[0]\n",
    "    no_skill = int(temp[1])\n",
    "    \n",
    "    contributer.append(name)\n",
    "    no_skills.append(no_skill)\n",
    "    l1 = []\n",
    "    l2 = []\n",
    "    \n",
    "    for j in range(no_skill):\n",
    "        line1 = f.readline().rstrip()\n",
    "        temp2 = line1.split(\" \")\n",
    "        l1.append(temp2[0])\n",
    "        l2.append(int(temp2[1]))\n",
    "    skills.append(l1)\n",
    "    levels.append(l2)\n"
   ]
  },
  {
   "cell_type": "code",
   "execution_count": 54,
   "id": "1f5152ec",
   "metadata": {},
   "outputs": [],
   "source": [
    "#for projects\n",
    "for i in range(M):\n",
    "    line = f.readline().rstrip()\n",
    "    temp = line.split(\" \")\n",
    "    project.append(temp[0])\n",
    "    no_of_days.append(int(temp[1]))\n",
    "    score.append(int(temp[2]))\n",
    "    best_before.append(int(temp[3]))\n",
    "    no_of_roles.append(int(temp[4]))\n",
    "\n",
    "    l1 = []\n",
    "    l2 = []\n",
    "    \n",
    "    for j in range(int(temp[4])):\n",
    "        line1 = f.readline().rstrip()\n",
    "        temp2 = line1.split(\" \")\n",
    "        l1.append(temp2[0])\n",
    "        l2.append(int(temp2[1]))\n",
    "    required_roles.append(l1)\n",
    "    required_levels.append(l2)"
   ]
  },
  {
   "cell_type": "code",
   "execution_count": 55,
   "id": "3bbe3a2f",
   "metadata": {},
   "outputs": [
    {
     "name": "stdout",
     "output_type": "stream",
     "text": [
      "['Anna', 'Bob', 'Maria']\n",
      "[1, 2, 1]\n",
      "[['C++'], ['HTML', 'CSS'], ['Python']]\n",
      "[[2], [5, 5], [3]]\n"
     ]
    }
   ],
   "source": [
    "print(contributer)\n",
    "print(no_skills)\n",
    "print(skills)\n",
    "print(levels)"
   ]
  },
  {
   "cell_type": "code",
   "execution_count": 56,
   "id": "97330cdc",
   "metadata": {
    "scrolled": true
   },
   "outputs": [
    {
     "name": "stdout",
     "output_type": "stream",
     "text": [
      "['Logging', 'WebServer', 'WebChat']\n",
      "[5, 7, 10]\n",
      "[10, 10, 20]\n",
      "[5, 7, 20]\n",
      "[1, 2, 2]\n",
      "[['C++'], ['HTML', 'C++'], ['Python', 'HTML']]\n",
      "[[3], [3, 2], [3, 3]]\n"
     ]
    }
   ],
   "source": [
    "print(project)\n",
    "print(no_of_days)\n",
    "print(score)\n",
    "print(best_before)\n",
    "print(no_of_roles)\n",
    "\n",
    "print(required_roles)\n",
    "print(required_levels)"
   ]
  },
  {
   "cell_type": "code",
   "execution_count": 81,
   "id": "879898fb",
   "metadata": {},
   "outputs": [],
   "source": [
    "d = {}\n",
    "for i in range(M):\n",
    "    roles = required_roles[i]\n",
    "    l = required_levels[i]\n",
    "    w = []\n",
    "    for j in range(len(roles)):\n",
    "        for k in range(N):\n",
    "            skill = skills[k]\n",
    "            level = levels[k]\n",
    "            for x in range(len(skill)):\n",
    "                for y in range(len(level)):\n",
    "                    if roles[j] == skill[x] and l[j] <= level[y]:\n",
    "                        if contributer[k] not in w:\n",
    "                            w.append(contributer[k])\n",
    "                            level[y]+=1\n",
    "            levels[k] = level\n",
    "    \n",
    "    if(len(w) == no_of_roles[i]):\n",
    "        name = project[i]\n",
    "        d[name]=w"
   ]
  },
  {
   "cell_type": "code",
   "execution_count": 82,
   "id": "25602412",
   "metadata": {},
   "outputs": [
    {
     "name": "stdout",
     "output_type": "stream",
     "text": [
      "{'WebServer': ['Bob', 'Anna'], 'WebChat': ['Maria', 'Bob']}\n"
     ]
    }
   ],
   "source": [
    "print(d)"
   ]
  },
  {
   "cell_type": "code",
   "execution_count": 83,
   "id": "b7275a47",
   "metadata": {},
   "outputs": [
    {
     "name": "stdout",
     "output_type": "stream",
     "text": [
      "[[3], [7, 5], [4]]\n"
     ]
    }
   ],
   "source": [
    "print(levels)"
   ]
  },
  {
   "cell_type": "code",
   "execution_count": null,
   "id": "f4d5ecc0",
   "metadata": {},
   "outputs": [],
   "source": []
  }
 ],
 "metadata": {
  "kernelspec": {
   "display_name": "Python 3 (ipykernel)",
   "language": "python",
   "name": "python3"
  },
  "language_info": {
   "codemirror_mode": {
    "name": "ipython",
    "version": 3
   },
   "file_extension": ".py",
   "mimetype": "text/x-python",
   "name": "python",
   "nbconvert_exporter": "python",
   "pygments_lexer": "ipython3",
   "version": "3.8.11"
  }
 },
 "nbformat": 4,
 "nbformat_minor": 5
}
